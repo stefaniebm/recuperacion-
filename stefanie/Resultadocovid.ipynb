{
  "nbformat": 4,
  "nbformat_minor": 0,
  "metadata": {
    "colab": {
      "name": "Resultadocovid.ipynb",
      "provenance": [],
      "collapsed_sections": []
    },
    "kernelspec": {
      "name": "python3",
      "display_name": "Python 3"
    },
    "language_info": {
      "name": "python"
    }
  },
  "cells": [
    {
      "cell_type": "code",
      "metadata": {
        "id": "rlDPE4Kfee1x"
      },
      "source": [
        ""
      ],
      "execution_count": null,
      "outputs": []
    },
    {
      "cell_type": "code",
      "metadata": {
        "id": "drmeeVr9e1ji"
      },
      "source": [
        "Guatemala = 2955.09\n",
        "CostaRica = 9916.59\n",
        "Honduras = 3610.99\n",
        "Nicaragua = 154.65\n",
        "ElSalvador = 1537.12"
      ],
      "execution_count": 3,
      "outputs": []
    },
    {
      "cell_type": "code",
      "metadata": {
        "colab": {
          "base_uri": "https://localhost:8080/"
        },
        "id": "YtYJM31ngnvn",
        "outputId": "9d69b18d-2cf4-4323-80ba-ae2b04f1ff93"
      },
      "source": [
        "# suma de casos positivos en centroamerica \n",
        "Guatemala + CostaRica + Honduras + Nicaragua + ElSalvador "
      ],
      "execution_count": 4,
      "outputs": [
        {
          "output_type": "execute_result",
          "data": {
            "text/plain": [
              "18174.44"
            ]
          },
          "metadata": {},
          "execution_count": 4
        }
      ]
    }
  ]
}